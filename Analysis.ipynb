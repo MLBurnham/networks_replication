{
 "cells": [
  {
   "cell_type": "markdown",
   "metadata": {},
   "source": [
    "# Final analysis"
   ]
  },
  {
   "cell_type": "markdown",
   "metadata": {},
   "source": [
    "To do:\n",
    "\n",
    "- clean notebooks and code base\n",
    "    - rename notebook to correlate with sections\n",
    "    - make sure all code runs\n",
    "    - add latex to repo\n",
    "- compile into latex\n",
    "- edit\n",
    "- dwnominate citation\n",
    "- table of hyperparameters for bilin model"
   ]
  },
  {
   "cell_type": "markdown",
   "metadata": {},
   "source": [
    "### Notes:\n",
    "\n",
    "- had to subset the data to 102 most popular\n",
    "- model seems to preform worse with the most popular as the correlations drop, particularly with house republicans. Could be that more popular get a noisier signal because there are more followers? Maybe alpha isn't sufficient? "
   ]
  },
  {
   "cell_type": "code",
   "execution_count": 61,
   "metadata": {},
   "outputs": [],
   "source": [
    "library(ggplot2)"
   ]
  },
  {
   "cell_type": "markdown",
   "metadata": {},
   "source": [
    "# Elite Graphs"
   ]
  },
  {
   "cell_type": "markdown",
   "metadata": {},
   "source": [
    "### Bilin Elite estimates"
   ]
  },
  {
   "cell_type": "code",
   "execution_count": 133,
   "metadata": {},
   "outputs": [
    {
     "data": {
      "text/html": [
       "102"
      ],
      "text/latex": [
       "102"
      ],
      "text/markdown": [
       "102"
      ],
      "text/plain": [
       "[1] 102"
      ]
     },
     "metadata": {},
     "output_type": "display_data"
    },
    {
     "data": {
      "text/html": [
       "0.908191414079744"
      ],
      "text/latex": [
       "0.908191414079744"
      ],
      "text/markdown": [
       "0.908191414079744"
      ],
      "text/plain": [
       "[1] 0.9081914"
      ]
     },
     "metadata": {},
     "output_type": "display_data"
    },
    {
     "data": {
      "text/html": [
       "0.934288166488252"
      ],
      "text/latex": [
       "0.934288166488252"
      ],
      "text/markdown": [
       "0.934288166488252"
      ],
      "text/plain": [
       "[1] 0.9342882"
      ]
     },
     "metadata": {},
     "output_type": "display_data"
    },
    {
     "data": {
      "text/html": [
       "0.397335735096799"
      ],
      "text/latex": [
       "0.397335735096799"
      ],
      "text/markdown": [
       "0.397335735096799"
      ],
      "text/plain": [
       "[1] 0.3973357"
      ]
     },
     "metadata": {},
     "output_type": "display_data"
    },
    {
     "data": {
      "text/html": [
       "0.496886010129954"
      ],
      "text/latex": [
       "0.496886010129954"
      ],
      "text/markdown": [
       "0.496886010129954"
      ],
      "text/plain": [
       "[1] 0.496886"
      ]
     },
     "metadata": {},
     "output_type": "display_data"
    }
   ],
   "source": [
    "load('bilinresults-elites-US.rdata')\n",
    "load(\"Barbera/elites-data.Rdata\")\n",
    "us <- elites.data$US\n",
    "\n",
    "rm(d)\n",
    "results$merge <- tolower(results$screen_name)\n",
    "# merging data\n",
    "d <- merge(us, results, by=\"merge\")\n",
    "\n",
    "# normalizing elite estimates\n",
    "# he is normalizing on the mass ideal point estimates. I can't do that so I'll use non-normalized as a comparison\n",
    "# load(\"output/estimates-US.rdata\") \n",
    "#d$phi <- (d$phi - mean(results$theta)) / sd(results$theta)\n",
    "\n",
    "## keeping only congress\n",
    "d <- d[d$title %in% c(\"House\", \"Senate\"),]\n",
    "\n",
    "# number of observations\n",
    "sum(table(d$title[!is.na(d$dw.nom.1)]))\n",
    "\n",
    "# correlations within chamber\n",
    "cor(d$phi[d$title==\"House\"], d$dw.nom.1[d$title==\"House\"], use='complete.obs')\n",
    "cor(d$phi[d$title==\"Senate\"], d$dw.nom.1[d$title==\"Senate\"], use='complete.obs')\n",
    "# correlations within the party\n",
    "cor(d$phi[d$party==\"R\"], d$dw.nom.1[d$party==\"R\"], use='complete.obs')\n",
    "cor(d$phi[d$party==\"D\"], d$dw.nom.1[d$party==\"D\"], use='complete.obs')"
   ]
  },
  {
   "cell_type": "code",
   "execution_count": 134,
   "metadata": {},
   "outputs": [
    {
     "name": "stderr",
     "output_type": "stream",
     "text": [
      "Warning message:\n",
      "“`show_guide` has been deprecated. Please use `show.legend` instead.”\n"
     ]
    },
    {
     "data": {
      "image/png": "[encoded data removed]",
      "text/plain": [
       "plot without title"
      ]
     },
     "metadata": {
      "image/png": {
       "height": 420,
       "width": 420
      },
      "text/plain": {
       "height": 420,
       "width": 420
      }
     },
     "output_type": "display_data"
    }
   ],
   "source": [
    "d <- d[!is.na(d$phi) & !is.na(d$dw.nom.1),]\n",
    "# corr house dem\n",
    "c1 <- round(cor(d$phi[d$title==\"House\" & d$party==\"D\"], \n",
    "    d$dw.nom.1[d$title==\"House\" & d$party==\"D\"]), 2)\n",
    "# corr house R\n",
    "c2 <- round(cor(d$phi[d$title==\"House\" & d$party==\"R\"], \n",
    "    d$dw.nom.1[d$title==\"House\" & d$party==\"R\"]), 2)\n",
    "# corr senate D\n",
    "c3 <- round(cor(d$phi[d$title==\"Senate\" & d$party==\"D\"], \n",
    "    d$dw.nom.1[d$title==\"Senate\" & d$party==\"D\"]), 2)\n",
    "# corr house R\n",
    "c4 <- round(cor(d$phi[d$title==\"Senate\" & d$party==\"R\"], \n",
    "    d$dw.nom.1[d$title==\"Senate\" & d$party==\"R\"]), 2)\n",
    "\n",
    "\n",
    "# data frame of correlations per party per chamber\n",
    "a1 <- data.frame(dw.nom.1 = -0.9, phi=-2, title=factor(\"House\",levels=c(\"House\",\"Senate\")), \n",
    "            party=as.character(paste0(\"rho[D]==\", c1)))\n",
    "a2 <- data.frame(dw.nom.1 = 0.9, phi=2.7, title=factor(\"House\",levels=c(\"House\",\"Senate\")), \n",
    "            party=as.character(paste0(\"rho[R]==\", c2)))\n",
    "a3 <- data.frame(dw.nom.1 = -0.9, phi=-2, title=factor(\"Senate\",levels=c(\"House\",\"Senate\")), \n",
    "            party=as.character(paste0(\"rho[D]==\", c3)))\n",
    "a4 <- data.frame(dw.nom.1 = 0.9, phi=2.7, title=factor(\"Senate\",levels=c(\"House\",\"Senate\")), \n",
    "            party=as.character(paste0(\"rho[R]==\", c4)))\n",
    "a <- rbind(a1, a2, a3, a4)\n",
    "\n",
    "# data frame of specific call outs\n",
    "a5 <- data.frame(dw.nom.1 = -0.55, phi=1.47, title=factor(\"House\",levels=c(\"House\",\"Senate\")), \n",
    "            party=\"A. Davis (now R)\")\n",
    "a6 <- data.frame(dw.nom.1 = -0.30, phi=-2.89, title=factor(\"Senate\",levels=c(\"House\",\"Senate\")), \n",
    "            party=\"B. Sanders\")\n",
    "a7 <- data.frame(dw.nom.1 = -0.60, phi=0.34, title=factor(\"Senate\",levels=c(\"House\",\"Senate\")), \n",
    "            party=\"J. Lieberman\")\n",
    "\n",
    "a2 <- rbind(a5, a6, a7)\n",
    "\n",
    "# parameters for the arrow\n",
    "a8 <- data.frame(y =-0.50 , yend = -0.32, x = 1.26, xend = 1.46, party=NA, title=factor(\"House\",levels=c(\"House\",\"Senate\")))\n",
    "a9 <- data.frame(y =-0.34 , yend = -0.52, x = -3.1, xend = -2.9, party=NA, title=factor(\"Senate\",levels=c(\"House\",\"Senate\")))\n",
    "a10 <- data.frame(y =-0.52 , yend = -0.26, x = .55, xend = .35, party=NA, title=factor(\"Senate\",levels=c(\"House\",\"Senate\")))\n",
    "\n",
    "a3 <- rbind(a8, a9, a10)\n",
    "\n",
    "p <- ggplot(d, aes(y=dw.nom.1, x=phi, label=party))\n",
    "\n",
    "pq <- p + geom_text(size=2.25) + facet_grid(. ~ title) + \n",
    "        scale_x_continuous(expression(paste(phi[j], \", Estimated Twitter Ideal Points\")), limits=c(-4, 4)) +\n",
    "        scale_y_continuous(\"DW-NOMINATE scores (1st dim.)\", \n",
    "            limits=c(-1,1), breaks=seq(-1,1,.5)) +\n",
    "        #scale_color_manual(name=\"Political Party\", values=c(\"blue\", \"purple\", \"red\")) +\n",
    "        geom_text(data=a, size=3, parse=TRUE) + geom_text(data=a2, size=2.5) + \n",
    "        geom_segment(data=a3, aes(x=x, xend=xend, y=y, yend=yend), size=0.25, \n",
    "            arrow=arrow(length=unit(0.2,\"cm\")),show_guide=F) + \n",
    "        theme(panel.border=element_rect(fill=NA), panel.background = element_blank(), legend.position=\"none\")\n",
    "pq"
   ]
  },
  {
   "cell_type": "code",
   "execution_count": 135,
   "metadata": {},
   "outputs": [],
   "source": [
    "ggsave(filename=\"plots/elites1.png\", plot=pq, \n",
    "        height=3, width=6)"
   ]
  },
  {
   "cell_type": "markdown",
   "metadata": {},
   "source": [
    "# Original model elite estimates"
   ]
  },
  {
   "cell_type": "code",
   "execution_count": 254,
   "metadata": {},
   "outputs": [
    {
     "data": {
      "text/html": [
       "102"
      ],
      "text/latex": [
       "102"
      ],
      "text/markdown": [
       "102"
      ],
      "text/plain": [
       "[1] 102"
      ]
     },
     "metadata": {},
     "output_type": "display_data"
    },
    {
     "data": {
      "text/html": [
       "0.909584536211092"
      ],
      "text/latex": [
       "0.909584536211092"
      ],
      "text/markdown": [
       "0.909584536211092"
      ],
      "text/plain": [
       "[1] 0.9095845"
      ]
     },
     "metadata": {},
     "output_type": "display_data"
    },
    {
     "data": {
      "text/html": [
       "0.945982992903511"
      ],
      "text/latex": [
       "0.945982992903511"
      ],
      "text/markdown": [
       "0.945982992903511"
      ],
      "text/plain": [
       "[1] 0.945983"
      ]
     },
     "metadata": {},
     "output_type": "display_data"
    },
    {
     "data": {
      "text/html": [
       "0.436335857220425"
      ],
      "text/latex": [
       "0.436335857220425"
      ],
      "text/markdown": [
       "0.436335857220425"
      ],
      "text/plain": [
       "[1] 0.4363359"
      ]
     },
     "metadata": {},
     "output_type": "display_data"
    },
    {
     "data": {
      "text/html": [
       "0.493656891716557"
      ],
      "text/latex": [
       "0.493656891716557"
      ],
      "text/markdown": [
       "0.493656891716557"
      ],
      "text/plain": [
       "[1] 0.4936569"
      ]
     },
     "metadata": {},
     "output_type": "display_data"
    }
   ],
   "source": [
    "load('Barbera/results-elites-US.rdata')\n",
    "\n",
    "rm(d)\n",
    "results$merge <- tolower(results$screen_name)\n",
    "# merging data\n",
    "d <- merge(us, results, by=\"merge\")\n",
    "\n",
    "# normalizing elite estimates\n",
    "# he is normalizing on the mass ideal point estimates. I can't do that so I'll use non-normalized as a comparison\n",
    "# load(\"output/estimates-US.rdata\") \n",
    "#d$phi <- (d$phi - mean(results$theta)) / sd(results$theta)\n",
    "\n",
    "## keeping only congress\n",
    "d <- d[d$title %in% c(\"House\", \"Senate\"),]\n",
    "# subset to names also in bilin data\n",
    "d <- d[d$name %in% names,]\n",
    "\n",
    "# number of observations\n",
    "sum(table(d$title[!is.na(d$dw.nom.1)]))\n",
    "\n",
    "# correlations within chamber\n",
    "cor(d$phi[d$title==\"House\"], d$dw.nom.1[d$title==\"House\"], use='complete.obs')\n",
    "cor(d$phi[d$title==\"Senate\"], d$dw.nom.1[d$title==\"Senate\"], use='complete.obs')\n",
    "# correlations within the party\n",
    "cor(d$phi[d$party==\"R\"], d$dw.nom.1[d$party==\"R\"], use='complete.obs')\n",
    "cor(d$phi[d$party==\"D\"], d$dw.nom.1[d$party==\"D\"], use='complete.obs')"
   ]
  },
  {
   "cell_type": "code",
   "execution_count": 255,
   "metadata": {},
   "outputs": [
    {
     "name": "stderr",
     "output_type": "stream",
     "text": [
      "Warning message:\n",
      "“`show_guide` has been deprecated. Please use `show.legend` instead.”\n"
     ]
    },
    {
     "data": {
      "image/png": "[encoded data removed]",
      "text/plain": [
       "plot without title"
      ]
     },
     "metadata": {
      "image/png": {
       "height": 420,
       "width": 420
      },
      "text/plain": {
       "height": 420,
       "width": 420
      }
     },
     "output_type": "display_data"
    }
   ],
   "source": [
    "d <- d[!is.na(d$phi) & !is.na(d$dw.nom.1),]\n",
    "# corr house dem\n",
    "c1 <- round(cor(d$phi[d$title==\"House\" & d$party==\"D\"], \n",
    "    d$dw.nom.1[d$title==\"House\" & d$party==\"D\"]), 2)\n",
    "# corr house R\n",
    "c2 <- round(cor(d$phi[d$title==\"House\" & d$party==\"R\"], \n",
    "    d$dw.nom.1[d$title==\"House\" & d$party==\"R\"]), 2)\n",
    "# corr senate D\n",
    "c3 <- round(cor(d$phi[d$title==\"Senate\" & d$party==\"D\"], \n",
    "    d$dw.nom.1[d$title==\"Senate\" & d$party==\"D\"]), 2)\n",
    "# corr house R\n",
    "c4 <- round(cor(d$phi[d$title==\"Senate\" & d$party==\"R\"], \n",
    "    d$dw.nom.1[d$title==\"Senate\" & d$party==\"R\"]), 2)\n",
    "\n",
    "# data frame of correlations per party per chamber\n",
    "a1 <- data.frame(dw.nom.1 = -0.9, phi=-2, title=factor(\"House\",levels=c(\"House\",\"Senate\")), \n",
    "            party=as.character(paste0(\"rho[D]==\", c1)))\n",
    "a2 <- data.frame(dw.nom.1 = 0.9, phi=2.2, title=factor(\"House\",levels=c(\"House\",\"Senate\")), \n",
    "            party=as.character(paste0(\"rho[R]==\", c2)))\n",
    "a3 <- data.frame(dw.nom.1 = -0.9, phi=-2, title=factor(\"Senate\",levels=c(\"House\",\"Senate\")), \n",
    "            party=as.character(paste0(\"rho[D]==\", c3)))\n",
    "a4 <- data.frame(dw.nom.1 = 0.9, phi=2.2, title=factor(\"Senate\",levels=c(\"House\",\"Senate\")), \n",
    "            party=as.character(paste0(\"rho[R]==\", c4)))\n",
    "a <- rbind(a1, a2, a3, a4)\n",
    "\n",
    "# data frame of specific call outs\n",
    "a5 <- data.frame(dw.nom.1 = -0.55, phi=1.24, title=factor(\"House\",levels=c(\"House\",\"Senate\")), \n",
    "            party=\"A. Davis (now R)\")\n",
    "a6 <- data.frame(dw.nom.1 = -0.30, phi=-2.04, title=factor(\"Senate\",levels=c(\"House\",\"Senate\")),\n",
    "            party=\"B. Sanders\")\n",
    "a7 <- data.frame(dw.nom.1 = -0.60, phi=.16, title=factor(\"Senate\",levels=c(\"House\",\"Senate\")), \n",
    "            party=\"J. Lieberman\")\n",
    "\n",
    "a2 <- rbind(a5, a6, a7)\n",
    "\n",
    "# boundaries for the plot\n",
    "a8 <- data.frame(y =-0.50 , yend = -0.32, x = 1.04, xend = 1.24, party=NA, title=factor(\"House\",levels=c(\"House\",\"Senate\")))\n",
    "a9 <- data.frame(y =-0.34 , yend = -0.52, x = -2.2, xend = -2, party=NA, title=factor(\"Senate\",levels=c(\"House\",\"Senate\")))\n",
    "a10 <- data.frame(y =-0.52 , yend = -0.26, x = -.04, xend = .16, party=NA, title=factor(\"Senate\",levels=c(\"House\",\"Senate\")))\n",
    "\n",
    "a3 <- rbind(a8, a9, a10)\n",
    "\n",
    "p <- ggplot(d, aes(y=dw.nom.1, x=phi, label=party))\n",
    "pq <- p + geom_text(size=2.25) + facet_grid(. ~ title) + \n",
    "        scale_x_continuous(expression(paste(phi[j], \", Estimated Twitter Ideal Points\")), limits=c(-2.5, 2.5)) +\n",
    "        scale_y_continuous(\"DW-NOMINATE scores (1st dim.)\", \n",
    "            limits=c(-1,1), breaks=seq(-1,1,.5)) +\n",
    "        #scale_color_manual(name=\"Political Party\", values=c(\"blue\", \"purple\", \"red\")) +\n",
    "        geom_text(data=a, size=3, parse=TRUE) + geom_text(data=a2, size=2.5) + \n",
    "        geom_segment(data=a3, aes(x=x, xend=xend, y=y, yend=yend), size=0.25, \n",
    "            arrow=arrow(length=unit(0.2,\"cm\")),show_guide=F) + \n",
    "        theme(panel.border=element_rect(fill=NA), panel.background = element_blank(), legend.position=\"none\")\n",
    "pq"
   ]
  },
  {
   "cell_type": "code",
   "execution_count": 138,
   "metadata": {},
   "outputs": [],
   "source": [
    "ggsave(filename=\"plots/elites2.png\", plot=pq, \n",
    "        height=3, width=6)"
   ]
  },
  {
   "cell_type": "markdown",
   "metadata": {},
   "source": [
    "### Bilin Key Elites"
   ]
  },
  {
   "cell_type": "code",
   "execution_count": 307,
   "metadata": {},
   "outputs": [],
   "source": [
    "load('bilinresults-elites-US.rdata')\n",
    "load(\"Barbera/elites-data.Rdata\")\n",
    "us <- elites.data$US\n",
    "\n",
    "rm(d)\n",
    "results$merge <- tolower(results$screen_name)\n",
    "# merging data\n",
    "d <- merge(us, results, by=\"merge\")"
   ]
  },
  {
   "cell_type": "code",
   "execution_count": 309,
   "metadata": {},
   "outputs": [
    {
     "name": "stderr",
     "output_type": "stream",
     "text": [
      "Warning message:\n",
      "“Ignoring unknown parameters: width”\n"
     ]
    },
    {
     "data": {
      "image/png": "[encoded data removed]",
      "text/plain": [
       "plot without title"
      ]
     },
     "metadata": {
      "image/png": {
       "height": 420,
       "width": 420
      },
      "text/plain": {
       "height": 420,
       "width": 420
      }
     },
     "output_type": "display_data"
    }
   ],
   "source": [
    "# finding median legislators\n",
    "housedem <- median(d$phi[d$title==\"House\" & d$party==\"D\"])\n",
    "houserep <- median(d$phi[d$title==\"House\" & d$party==\"R\"])\n",
    "sendem <- median(d$phi[d$title==\"Senate\" & d$party==\"D\"])\n",
    "senrep <- median(d$phi[d$title==\"Senate\" & d$party==\"R\"])\n",
    "\n",
    "housedem <- which.min(abs(d$phi - housedem))\n",
    "houserep <- which.min(abs(d$phi - houserep))\n",
    "sendem <- which.min(abs(d$phi - sendem))\n",
    "senrep <- which.min(abs(d$phi - senrep))\n",
    "\n",
    "# preparing plot data\n",
    "d <- rbind(\n",
    "    d[c(housedem, houserep, sendem, senrep),],\n",
    "    d[d$merge %in% c(\"maddow\", \"mmflint\", \"hrc\", \"barackobama\",\n",
    "        \"nytimes\", \"jonhuntsman\", \"mittromney\", \"foxnews\",\n",
    "        \"glennbeck\", \"limbaugh\"),])\n",
    "\n",
    "target <- c(\"Median House D.\", \"Median House R.\", \"Median Senate D.\", \n",
    "            \"Median Senate R.\", \"@BarackObama\", \"@foxnews\", \"@GlennBeck\", \n",
    "            \"@HRC\", \"@JonHuntsman\", \"@limbaugh\", \"@Maddow\", \"@MittRomney\",\n",
    "            \"@MMFlint\",   \"@nytimes\")\n",
    "d2 <- data.frame(med = d$phi, lo=d$phi-2*d$phi.sd, up=d$phi+2*d$phi.sd, target=target, \n",
    "    party=c(1, 2, 1, 2, 1,\n",
    "        3, 3, 3, 2, 3, 3, \n",
    "        2, 3, 3))\n",
    "\n",
    "d2$x <- 0\n",
    "d2 <- d2[order(d2$med),]\n",
    "\n",
    "p <- ggplot(data=d2, aes(y=med, x=x, shape=factor(party)))\n",
    "pq2 <- p + geom_linerange(width=.5, aes(ymin=lo, ymax=up), color=\"grey20\") + \n",
    "        geom_point(aes(shape=factor(party))) + \n",
    "        scale_x_continuous(limits=c(-0.07,0.06), expand=c(0,0)) + \n",
    "            scale_y_continuous(expression(paste(phi[j], \", Estimated Twitter Ideal Points\")), limits=c(-3, 3)) +\n",
    "            theme_bw() + coord_flip() +\n",
    "            scale_shape_manual(name=\"Political Party\", values=c(16, 15, 4), \n",
    "                labels=c(\"Democrat\",  \"Republican\", \"Nonpartisan\")) +\n",
    "        theme( legend.position = \"bottom\", legend.direction = \"horizontal\",\n",
    "        axis.line.y = element_blank(), \n",
    "        axis.text.y = element_blank(), \n",
    "        axis.ticks.y = element_blank(), \n",
    "        axis.title.y = element_blank(), \n",
    "        panel.border = element_blank(), \n",
    "        panel.grid = element_blank(),\n",
    "        legend.spacing=unit(-0.75, \"cm\"),\n",
    "        plot.margin=unit(c(0.30, 0.75, 0.10, 1), \"cm\")) +\n",
    "        geom_vline(xintercept=0, alpha=1/3, size=0.2)\n",
    "\n",
    "add <- rep_len(c(-0.03, 0.03, -0.05, 0.05), 14) \n",
    "d2$x2 <- d2$x + add\n",
    "\n",
    "arrows <- data.frame(y = d2$med, yend = d2$med, x = add - add/4, xend = add/5, party=1)\n",
    "\n",
    "pq2 <- pq2 + geom_text(data=d2, aes(label=target, x=x2, y=med), size=2.1) +\n",
    "    geom_segment(data=arrows, aes(x=x, xend=xend, y=y, yend=yend), size=0.25,\n",
    "        arrow=arrow(length=unit(0.1,\"cm\"))) +\n",
    "    geom_vline(xintercept=-0.07, colour=\"black\", size=0.75)\n",
    "\n",
    "pq2 "
   ]
  },
  {
   "cell_type": "code",
   "execution_count": 300,
   "metadata": {},
   "outputs": [],
   "source": [
    "ggsave(filename=\"plots/key_elites1.png\", plot=pq2, \n",
    "        height=2, width=6)"
   ]
  },
  {
   "cell_type": "markdown",
   "metadata": {},
   "source": [
    "### Orginal Key Elites"
   ]
  },
  {
   "cell_type": "code",
   "execution_count": 303,
   "metadata": {},
   "outputs": [],
   "source": [
    "load('Barbera/results-elites-US.rdata')\n",
    "\n",
    "rm(d)\n",
    "results$merge <- tolower(results$screen_name)\n",
    "# merging data\n",
    "d <- merge(us, results, by=\"merge\")\n",
    "\n",
    "# subset to names also in bilin data\n",
    "d <- d[d$name %in% names,]"
   ]
  },
  {
   "cell_type": "code",
   "execution_count": 305,
   "metadata": {},
   "outputs": [
    {
     "name": "stderr",
     "output_type": "stream",
     "text": [
      "Warning message:\n",
      "“Ignoring unknown parameters: width”\n"
     ]
    },
    {
     "data": {
      "image/png": "[encoded data removed]",
      "text/plain": [
       "plot without title"
      ]
     },
     "metadata": {
      "image/png": {
       "height": 420,
       "width": 420
      },
      "text/plain": {
       "height": 420,
       "width": 420
      }
     },
     "output_type": "display_data"
    }
   ],
   "source": [
    "# finding median legislators\n",
    "housedem <- median(d$phi[d$title==\"House\" & d$party==\"D\"])\n",
    "houserep <- median(d$phi[d$title==\"House\" & d$party==\"R\"])\n",
    "sendem <- median(d$phi[d$title==\"Senate\" & d$party==\"D\"])\n",
    "senrep <- median(d$phi[d$title==\"Senate\" & d$party==\"R\"])\n",
    "\n",
    "housedem <- which.min(abs(d$phi - housedem))\n",
    "houserep <- which.min(abs(d$phi - houserep))\n",
    "sendem <- which.min(abs(d$phi - sendem))\n",
    "senrep <- which.min(abs(d$phi - senrep))\n",
    "\n",
    "# preparing plot data\n",
    "d <- rbind(\n",
    "    d[c(housedem, houserep, sendem, senrep),],\n",
    "    d[d$merge %in% c(\"maddow\", \"mmflint\", \"hrc\", \"barackobama\",\n",
    "        \"nytimes\", \"jonhuntsman\", \"mittromney\", \"foxnews\",\n",
    "        \"glennbeck\", \"limbaugh\"),])\n",
    "\n",
    "target <- c(\"Median House D.\", \"Median House R.\", \"Median Senate D.\", \n",
    "            \"Median Senate R.\", \"@BarackObama\", \"@foxnews\", \"@GlennBeck\", \n",
    "            \"@HRC\", \"@JonHuntsman\", \"@limbaugh\", \"@Maddow\", \"@MittRomney\",\n",
    "            \"@MMFlint\",   \"@nytimes\")\n",
    "d2 <- data.frame(med = d$phi, lo=d$phi-2*d$phi.sd, up=d$phi+2*d$phi.sd, target=target, \n",
    "    party=c(1, 2, 1, 2, 1,\n",
    "        3, 3, 3, 2, 3, 3, \n",
    "        2, 3, 3))\n",
    "\n",
    "d2$x <- 0\n",
    "d2 <- d2[order(d2$med),]\n",
    "\n",
    "p <- ggplot(data=d2, aes(y=med, x=x, shape=factor(party)))\n",
    "pq2 <- p + geom_linerange(width=.5, aes(ymin=lo, ymax=up), color=\"grey20\") + \n",
    "        geom_point(aes(shape=factor(party))) + \n",
    "        scale_x_continuous(limits=c(-0.07,0.06), expand=c(0,0)) + \n",
    "            scale_y_continuous(expression(paste(phi[j], \", Estimated Twitter Ideal Points\")), limits=c(-2.1, 2.4)) +\n",
    "            theme_bw() + coord_flip() +\n",
    "            scale_shape_manual(name=\"Political Party\", values=c(16, 15, 4), \n",
    "                labels=c(\"Democrat\",  \"Republican\", \"Nonpartisan\")) +\n",
    "        theme( legend.position = \"bottom\", legend.direction = \"horizontal\",\n",
    "        axis.line.y = element_blank(), \n",
    "        axis.text.y = element_blank(), \n",
    "        axis.ticks.y = element_blank(), \n",
    "        axis.title.y = element_blank(), \n",
    "        panel.border = element_blank(), \n",
    "        panel.grid = element_blank(),\n",
    "        legend.spacing=unit(-0.75, \"cm\"),\n",
    "        plot.margin=unit(c(0.30, 0.75, 0.10, 1), \"cm\")) +\n",
    "        geom_vline(xintercept=0, alpha=1/3, size=0.2)\n",
    "\n",
    "add <- rep_len(c(-0.03, 0.03, -0.05, 0.05), 14) \n",
    "d2$x2 <- d2$x + add\n",
    "\n",
    "arrows <- data.frame(y = d2$med, yend = d2$med, x = add - add/4, xend = add/5, party=1)\n",
    "\n",
    "pq2 <- pq2 + geom_text(data=d2, aes(label=target, x=x2, y=med), size=2.1) +\n",
    "    geom_segment(data=arrows, aes(x=x, xend=xend, y=y, yend=yend), size=0.25,\n",
    "        arrow=arrow(length=unit(0.1,\"cm\"))) +\n",
    "    geom_vline(xintercept=-0.07, colour=\"black\", size=0.75)\n",
    "\n",
    "pq2 "
   ]
  },
  {
   "cell_type": "code",
   "execution_count": 306,
   "metadata": {},
   "outputs": [],
   "source": [
    "ggsave(filename=\"plots/key_elites2.png\", plot=pq2, \n",
    "        height=2, width=6)"
   ]
  },
  {
   "cell_type": "markdown",
   "metadata": {},
   "source": [
    "# Elite Comparison"
   ]
  },
  {
   "cell_type": "markdown",
   "metadata": {},
   "source": [
    "### Bilinear"
   ]
  },
  {
   "cell_type": "code",
   "execution_count": 498,
   "metadata": {},
   "outputs": [],
   "source": [
    "load('bilinresults-elites-US.rdata')\n",
    "load(\"Barbera/elites-data.Rdata\")\n",
    "us <- elites.data$US\n",
    "\n",
    "rm(d)\n",
    "results$merge <- tolower(results$screen_name)\n",
    "# merging data\n",
    "d <- merge(us, results, by=\"merge\")\n",
    "names <- d$name"
   ]
  },
  {
   "cell_type": "code",
   "execution_count": 513,
   "metadata": {},
   "outputs": [],
   "source": [
    "# Density plot\n",
    "meds <- dplyr::summarise(group_by(d, party), med = round(median(phi),2))\n",
    "meds$y_pos <- c(.84, .32,.24,.8)[order(meds$med,decreasing = T)]\n",
    "\n",
    "de1 <- ggplot(d, aes(x = phi, fill = party)) +\n",
    "    geom_density(alpha = 0.5) + \n",
    "    scale_fill_manual(values=c('dodgerblue4', 'orchid4', 'grey', 'firebrick4'), name = 'Party', labels = c(\"D\", \"I\", \"NP\", \"R\")) +\n",
    "    ylab('Density') +\n",
    "    xlab(expression(phi[j])) +\n",
    "    annotate(\"text\", x = meds$med[1], y = meds$y_pos[1], label = paste (\"Median:\", meds$med[1]), parse = TRUE) +\n",
    "    annotate(\"text\", x = meds$med[2], y = meds$y_pos[2], label = paste (\"Median:\", meds$med[2]), parse = TRUE) +\n",
    "    annotate(\"text\", x = meds$med[3], y = meds$y_pos[3], label = paste (\"Median:\", meds$med[3]), parse = TRUE) +\n",
    "    annotate(\"text\", x = meds$med[4], y = meds$y_pos[4], label = paste (\"Median:\", meds$med[4]), parse = TRUE) +\n",
    "    theme(panel.border=element_rect(fill=NA), panel.background = element_blank())\n",
    "\n",
    "ggsave(filename=\"plots/denselites1.png\", plot=de1,\n",
    "       height=5, width=5)"
   ]
  },
  {
   "cell_type": "code",
   "execution_count": 426,
   "metadata": {},
   "outputs": [],
   "source": [
    "meds <- dplyr::summarise(group_by(d, party), med = round(median(phi),2))\n",
    "\n",
    "be1 <- ggplot(d, aes(y = phi, x = party, fill = party)) + \n",
    "    xlab('Party') +\n",
    "    ylab(expression(phi[j])) +\n",
    "    geom_boxplot(alpha = 0.7) + \n",
    "    geom_text(data = meds, aes(y = med, label = med), \n",
    "              position = position_dodge(width = 0.8), size = 4, vjust = -0.5) +\n",
    "    scale_fill_manual(values=c('dodgerblue4', 'orchid4', 'grey', 'firebrick4')) +\n",
    "    theme(panel.border=element_rect(fill=NA), panel.background = element_blank())\n",
    "\n",
    "ggsave(filename=\"plots/boxelites1.png\", plot=be1, \n",
    "        height=5, width=5)"
   ]
  },
  {
   "cell_type": "code",
   "execution_count": 268,
   "metadata": {},
   "outputs": [
    {
     "data": {
      "text/html": [
       "-1.71017146535196"
      ],
      "text/latex": [
       "-1.71017146535196"
      ],
      "text/markdown": [
       "-1.71017146535196"
      ],
      "text/plain": [
       "[1] -1.710171"
      ]
     },
     "metadata": {},
     "output_type": "display_data"
    },
    {
     "data": {
      "text/html": [
       "<style>\n",
       ".list-inline {list-style: none; margin:0; padding: 0}\n",
       ".list-inline>li {display: inline-block}\n",
       ".list-inline>li:not(:last-child)::after {content: \"\\00b7\"; padding: 0 .5ex}\n",
       "</style>\n",
       "<ol class=list-inline><li>-2.77368800399097</li><li>1.46888512393965</li></ol>\n"
      ],
      "text/latex": [
       "\\begin{enumerate*}\n",
       "\\item -2.77368800399097\n",
       "\\item 1.46888512393965\n",
       "\\end{enumerate*}\n"
      ],
      "text/markdown": [
       "1. -2.77368800399097\n",
       "2. 1.46888512393965\n",
       "\n",
       "\n"
      ],
      "text/plain": [
       "[1] -2.773688  1.468885"
      ]
     },
     "metadata": {},
     "output_type": "display_data"
    }
   ],
   "source": [
    "mean(d$phi[d$party==\"D\"])\n",
    "range(d$phi[d$party==\"D\"])"
   ]
  },
  {
   "cell_type": "code",
   "execution_count": 269,
   "metadata": {},
   "outputs": [
    {
     "data": {
      "text/html": [
       "1.36328015861189"
      ],
      "text/latex": [
       "1.36328015861189"
      ],
      "text/markdown": [
       "1.36328015861189"
      ],
      "text/plain": [
       "[1] 1.36328"
      ]
     },
     "metadata": {},
     "output_type": "display_data"
    },
    {
     "data": {
      "text/html": [
       "<style>\n",
       ".list-inline {list-style: none; margin:0; padding: 0}\n",
       ".list-inline>li {display: inline-block}\n",
       ".list-inline>li:not(:last-child)::after {content: \"\\00b7\"; padding: 0 .5ex}\n",
       "</style>\n",
       "<ol class=list-inline><li>-0.0604014520271473</li><li>3.1728913386193</li></ol>\n"
      ],
      "text/latex": [
       "\\begin{enumerate*}\n",
       "\\item -0.0604014520271473\n",
       "\\item 3.1728913386193\n",
       "\\end{enumerate*}\n"
      ],
      "text/markdown": [
       "1. -0.0604014520271473\n",
       "2. 3.1728913386193\n",
       "\n",
       "\n"
      ],
      "text/plain": [
       "[1] -0.06040145  3.17289134"
      ]
     },
     "metadata": {},
     "output_type": "display_data"
    }
   ],
   "source": [
    "mean(d$phi[d$party==\"R\"])\n",
    "range(d$phi[d$party==\"R\"])"
   ]
  },
  {
   "cell_type": "markdown",
   "metadata": {},
   "source": [
    "### Original"
   ]
  },
  {
   "cell_type": "code",
   "execution_count": 516,
   "metadata": {},
   "outputs": [],
   "source": [
    "load('Barbera/results-elites-US.rdata')\n",
    "\n",
    "rm(d)\n",
    "results$merge <- tolower(results$screen_name)\n",
    "# merging data\n",
    "d <- merge(us, results, by=\"merge\")\n",
    "\n",
    "# subset to names also in bilin data\n",
    "d <- d[d$name %in% names,]"
   ]
  },
  {
   "cell_type": "code",
   "execution_count": 515,
   "metadata": {},
   "outputs": [],
   "source": [
    "# Density plot\n",
    "meds <- dplyr::summarise(group_by(d, party), med = round(median(phi),2))\n",
    "meds$y_pos <- c(1.27, .47,.35,1.33)[order(meds$med,decreasing = T)]\n",
    "\n",
    "de2 <- ggplot(d, aes(x = phi, fill = party)) +\n",
    "    geom_density(alpha = 0.5) + \n",
    "    scale_fill_manual(values=c('dodgerblue4', 'orchid4', 'grey', 'firebrick4'), name = 'Party', labels = c(\"D\", \"I\", \"NP\", \"R\")) +\n",
    "    ylab('Density') +\n",
    "    xlab(expression(phi[j])) +\n",
    "    annotate(\"text\", x = meds$med[1], y = meds$y_pos[1], label = paste (\"Median:\", meds$med[1]), parse = TRUE) +\n",
    "    annotate(\"text\", x = meds$med[2], y = meds$y_pos[2], label = paste (\"Median:\", meds$med[2]), parse = TRUE) +\n",
    "    annotate(\"text\", x = meds$med[3], y = meds$y_pos[3], label = paste (\"Median:\", meds$med[3]), parse = TRUE) +\n",
    "    annotate(\"text\", x = meds$med[4], y = meds$y_pos[4], label = paste (\"Median:\", meds$med[4]), parse = TRUE) +\n",
    "    theme(panel.border=element_rect(fill=NA), panel.background = element_blank())\n",
    "\n",
    "ggsave(filename=\"plots/denselites2.png\", plot=de2, \n",
    "        height=5, width=5)"
   ]
  },
  {
   "cell_type": "code",
   "execution_count": 477,
   "metadata": {},
   "outputs": [],
   "source": [
    "# box plot\n",
    "meds <- dplyr::summarise(group_by(d, party), med = round(median(phi),2))\n",
    "\n",
    "be2 <- ggplot(d, aes(y = phi, x = party, fill = party)) + \n",
    "    xlab('Party') +\n",
    "    ylab(expression(phi[j])) +\n",
    "    geom_boxplot(alpha = 0.7) + \n",
    "    geom_text(data = meds, aes(y = med, label = med), \n",
    "              position = position_dodge(width = 0.8), size = 4, vjust = -0.5) +\n",
    "    scale_fill_manual(values=c('dodgerblue4', 'orchid4', 'grey', 'firebrick4')) +\n",
    "    theme(panel.border=element_rect(fill=NA), panel.background = element_blank())\n",
    "\n",
    "ggsave(filename=\"plots/boxelites2.png\", plot=be2, \n",
    "        height=5, width=5)"
   ]
  },
  {
   "cell_type": "code",
   "execution_count": 288,
   "metadata": {},
   "outputs": [
    {
     "data": {
      "text/html": [
       "-1.32217673056434"
      ],
      "text/latex": [
       "-1.32217673056434"
      ],
      "text/markdown": [
       "-1.32217673056434"
      ],
      "text/plain": [
       "[1] -1.322177"
      ]
     },
     "metadata": {},
     "output_type": "display_data"
    },
    {
     "data": {
      "text/html": [
       "<style>\n",
       ".list-inline {list-style: none; margin:0; padding: 0}\n",
       ".list-inline>li {display: inline-block}\n",
       ".list-inline>li:not(:last-child)::after {content: \"\\00b7\"; padding: 0 .5ex}\n",
       "</style>\n",
       "<ol class=list-inline><li>-2.02704833679811</li><li>1.24092567700798</li></ol>\n"
      ],
      "text/latex": [
       "\\begin{enumerate*}\n",
       "\\item -2.02704833679811\n",
       "\\item 1.24092567700798\n",
       "\\end{enumerate*}\n"
      ],
      "text/markdown": [
       "1. -2.02704833679811\n",
       "2. 1.24092567700798\n",
       "\n",
       "\n"
      ],
      "text/plain": [
       "[1] -2.027048  1.240926"
      ]
     },
     "metadata": {},
     "output_type": "display_data"
    }
   ],
   "source": [
    "mean(d$phi[d$party==\"D\"])\n",
    "range(d$phi[d$party==\"D\"])"
   ]
  },
  {
   "cell_type": "code",
   "execution_count": 317,
   "metadata": {},
   "outputs": [
    {
     "data": {
      "text/html": [
       "0.939772693622368"
      ],
      "text/latex": [
       "0.939772693622368"
      ],
      "text/markdown": [
       "0.939772693622368"
      ],
      "text/plain": [
       "[1] 0.9397727"
      ]
     },
     "metadata": {},
     "output_type": "display_data"
    },
    {
     "data": {
      "text/html": [
       "0.892364850779355"
      ],
      "text/latex": [
       "0.892364850779355"
      ],
      "text/markdown": [
       "0.892364850779355"
      ],
      "text/plain": [
       "[1] 0.8923649"
      ]
     },
     "metadata": {},
     "output_type": "display_data"
    },
    {
     "data": {
      "text/html": [
       "<style>\n",
       ".list-inline {list-style: none; margin:0; padding: 0}\n",
       ".list-inline>li {display: inline-block}\n",
       ".list-inline>li:not(:last-child)::after {content: \"\\00b7\"; padding: 0 .5ex}\n",
       "</style>\n",
       "<ol class=list-inline><li>-0.287542712381926</li><li>1.99473588622803</li></ol>\n"
      ],
      "text/latex": [
       "\\begin{enumerate*}\n",
       "\\item -0.287542712381926\n",
       "\\item 1.99473588622803\n",
       "\\end{enumerate*}\n"
      ],
      "text/markdown": [
       "1. -0.287542712381926\n",
       "2. 1.99473588622803\n",
       "\n",
       "\n"
      ],
      "text/plain": [
       "[1] -0.2875427  1.9947359"
      ]
     },
     "metadata": {},
     "output_type": "display_data"
    }
   ],
   "source": [
    "median(d$phi[d$party==\"R\"])\n",
    "mean(d$phi[d$party==\"R\"])\n",
    "range(d$phi[d$party==\"R\"])"
   ]
  }
 ],
 "metadata": {
  "kernelspec": {
   "display_name": "R",
   "language": "R",
   "name": "ir"
  },
  "language_info": {
   "codemirror_mode": "r",
   "file_extension": ".r",
   "mimetype": "text/x-r-source",
   "name": "R",
   "pygments_lexer": "r",
   "version": "3.6.3"
  }
 },
 "nbformat": 4,
 "nbformat_minor": 4
}
