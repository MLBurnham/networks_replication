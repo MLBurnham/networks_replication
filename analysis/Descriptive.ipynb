{
 "cells": [
  {
   "cell_type": "code",
   "execution_count": 3,
   "metadata": {},
   "outputs": [
    {
     "name": "stderr",
     "output_type": "stream",
     "text": [
      "\n",
      "Attaching package: ‘igraph’\n",
      "\n",
      "\n",
      "The following objects are masked from ‘package:stats’:\n",
      "\n",
      "    decompose, spectrum\n",
      "\n",
      "\n",
      "The following object is masked from ‘package:base’:\n",
      "\n",
      "    union\n",
      "\n",
      "\n",
      "\n",
      "Attaching package: ‘dplyr’\n",
      "\n",
      "\n",
      "The following objects are masked from ‘package:igraph’:\n",
      "\n",
      "    as_data_frame, groups, union\n",
      "\n",
      "\n",
      "The following objects are masked from ‘package:stats’:\n",
      "\n",
      "    filter, lag\n",
      "\n",
      "\n",
      "The following objects are masked from ‘package:base’:\n",
      "\n",
      "    intersect, setdiff, setequal, union\n",
      "\n",
      "\n",
      "\n",
      "Attaching package: ‘gridExtra’\n",
      "\n",
      "\n",
      "The following object is masked from ‘package:dplyr’:\n",
      "\n",
      "    combine\n",
      "\n",
      "\n"
     ]
    }
   ],
   "source": [
    "library(igraph)\n",
    "library(dplyr)\n",
    "library(Matrix)\n",
    "library(ggplot2)\n",
    "library(gridExtra)"
   ]
  },
  {
   "cell_type": "markdown",
   "metadata": {},
   "source": [
    "## Data prep"
   ]
  },
  {
   "cell_type": "code",
   "execution_count": 81,
   "metadata": {},
   "outputs": [],
   "source": [
    "# load follower adjacency matrix. matrix named 'y'\n",
    "load('Barbera/adj-matrix-US.rdata')\n",
    "\n",
    "# load the retweets data. df named 'retweets'\n",
    "load('Barbera/retweets-data.rdata')\n",
    "\n",
    "# load the users data. df named 'users'\n",
    "load('Barbera/users-data-US.rdata')\n",
    "\n",
    "# load elites data. df named 'results'\n",
    "load('Barbera/results-elites-US.rdata')"
   ]
  },
  {
   "cell_type": "markdown",
   "metadata": {},
   "source": [
    "## Popularity retweet"
   ]
  },
  {
   "cell_type": "code",
   "execution_count": 92,
   "metadata": {},
   "outputs": [
    {
     "name": "stderr",
     "output_type": "stream",
     "text": [
      "`stat_bin()` using `bins = 30`. Pick better value with `binwidth`.\n",
      "\n",
      "`stat_bin()` using `bins = 30`. Pick better value with `binwidth`.\n",
      "\n"
     ]
    },
    {
     "data": {
      "image/png": "[encoded data removed]",
      "text/plain": [
       "plot without title"
      ]
     },
     "metadata": {
      "image/png": {
       "height": 420,
       "width": 420
      },
      "text/plain": {
       "height": 420,
       "width": 420
      }
     },
     "output_type": "display_data"
    }
   ],
   "source": [
    "g_retweet <- graph_from_edgelist(as.matrix(retweets[,c(2,3)]))\n",
    "# get the degree of nodes in the retweet network\n",
    "d_retweet <- degree(g_retweet)\n",
    "\n",
    "# Identify outliers\n",
    "outliers <- boxplot(d_retweet, plot=FALSE)$out\n",
    "\n",
    "# drop from the list\n",
    "d_noout<- d_retweet[-which(d_retweet %in% outliers)]\n",
    "\n",
    "# histogram without outliers\n",
    "d_hist <- ggplot(as.data.frame(d_noout), aes(x=d_noout)) + \n",
    "    geom_histogram() +\n",
    "    labs(x='Degree', y='Count') +\n",
    "    theme(panel.border=element_rect(fill=NA), panel.background = element_blank())\n",
    "\n",
    "# histogram with outliers\n",
    "d_histout <- ggplot(as.data.frame(d_retweet), aes(x=d_retweet)) + \n",
    "    geom_histogram() +\n",
    "    labs(x='Degree', y='Count') +\n",
    "    theme(panel.border=element_rect(fill=NA), panel.background = element_blank())\n",
    "\n",
    "# plot side by side\n",
    "degree_grid <- grid.arrange(d_histout, \n",
    "                           d_hist, \n",
    "                           ncol = 2)\n",
    "\n",
    "# save\n",
    "ggsave('plots/degree.png', plot = degree_grid, width = 10, height = 5)"
   ]
  },
  {
   "cell_type": "markdown",
   "metadata": {},
   "source": [
    "# Attachment"
   ]
  },
  {
   "cell_type": "code",
   "execution_count": 15,
   "metadata": {},
   "outputs": [
    {
     "data": {
      "text/html": [
       "<strong>png:</strong> 2"
      ],
      "text/latex": [
       "\\textbf{png:} 2"
      ],
      "text/markdown": [
       "**png:** 2"
      ],
      "text/plain": [
       "png \n",
       "  2 "
      ]
     },
     "metadata": {},
     "output_type": "display_data"
    }
   ],
   "source": [
    "# histogram of degree\n",
    "d_hist <- hist(d_retweet)\n",
    "\n",
    "# Plot attachment\n",
    "png('plots/attachment.png', width = 500, height = 500)\n",
    "plot(1:length(d_hist$counts), d_hist$counts+1, xlab = \"Degree\", ylab = \"Frequency\", cex.lab = 1.5, main = \"Scale-Free (log-log scale)\", log = \"xy\", type = \"b\")\n",
    "dev.off()"
   ]
  },
  {
   "cell_type": "code",
   "execution_count": 16,
   "metadata": {},
   "outputs": [
    {
     "data": {
      "text/html": [
       "<dl>\n",
       "\t<dt>$continuous</dt>\n",
       "\t\t<dd>FALSE</dd>\n",
       "\t<dt>$alpha</dt>\n",
       "\t\t<dd>2.48788063453672</dd>\n",
       "\t<dt>$xmin</dt>\n",
       "\t\t<dd>1434</dd>\n",
       "\t<dt>$logLik</dt>\n",
       "\t\t<dd>-11446.728685904</dd>\n",
       "\t<dt>$KS.stat</dt>\n",
       "\t\t<dd>0.0166478335650059</dd>\n",
       "\t<dt>$KS.p</dt>\n",
       "\t\t<dd>0.85158180194513</dd>\n",
       "</dl>\n"
      ],
      "text/latex": [
       "\\begin{description}\n",
       "\\item[\\$continuous] FALSE\n",
       "\\item[\\$alpha] 2.48788063453672\n",
       "\\item[\\$xmin] 1434\n",
       "\\item[\\$logLik] -11446.728685904\n",
       "\\item[\\$KS.stat] 0.0166478335650059\n",
       "\\item[\\$KS.p] 0.85158180194513\n",
       "\\end{description}\n"
      ],
      "text/markdown": [
       "$continuous\n",
       ":   FALSE\n",
       "$alpha\n",
       ":   2.48788063453672\n",
       "$xmin\n",
       ":   1434\n",
       "$logLik\n",
       ":   -11446.728685904\n",
       "$KS.stat\n",
       ":   0.0166478335650059\n",
       "$KS.p\n",
       ":   0.85158180194513\n",
       "\n",
       "\n"
      ],
      "text/plain": [
       "$continuous\n",
       "[1] FALSE\n",
       "\n",
       "$alpha\n",
       "[1] 2.487881\n",
       "\n",
       "$xmin\n",
       "[1] 1434\n",
       "\n",
       "$logLik\n",
       "[1] -11446.73\n",
       "\n",
       "$KS.stat\n",
       "[1] 0.01664783\n",
       "\n",
       "$KS.p\n",
       "[1] 0.8515818\n"
      ]
     },
     "metadata": {},
     "output_type": "display_data"
    }
   ],
   "source": [
    "# power law fit\n",
    "fit_power_law(d_retweet)"
   ]
  },
  {
   "cell_type": "markdown",
   "metadata": {},
   "source": [
    "## Assortativity"
   ]
  },
  {
   "cell_type": "code",
   "execution_count": 4,
   "metadata": {},
   "outputs": [],
   "source": [
    "# load the retweets data. df named 'retweets'\n",
    "load('Barbera/retweets-data.rdata')\n",
    "# load the users data. df named 'users'\n",
    "load('Barbera/users-data-US.rdata')\n",
    "\n",
    "# create the initial graph\n",
    "g_retweet <- graph_from_edgelist(as.matrix(retweets[,c(2,3)]))\n",
    "\n",
    "# get a list of all nodes in the data set\n",
    "edgeids <- V(g_retweet)$name\n",
    "\n",
    "users <- users[,c(9, 1, 8)]\n",
    "# identify nodes in the retweet edge list that don't have a point estimate\n",
    "missing <- edgeids[-which(edgeids %in% users$uid)]\n",
    "# remove nodes with no point estimate\n",
    "g <- delete_vertices(g_retweet, missing)\n",
    "# create a new edge list\n",
    "retweets_clean <- igraph::as_data_frame(g, what = 'edges')\n",
    "# create a new graph object from clean edge list and node list\n",
    "g <- graph_from_data_frame(retweets_clean, directed = TRUE, vertices = users)\n",
    "\n",
    "\n",
    "assortativity(g, types1 = V(g)$theta)"
   ]
  },
  {
   "cell_type": "markdown",
   "metadata": {},
   "source": [
    "## Transitivity"
   ]
  },
  {
   "cell_type": "code",
   "execution_count": 76,
   "metadata": {},
   "outputs": [
    {
     "data": {
      "text/html": [
       "0.152968631595455"
      ],
      "text/latex": [
       "0.152968631595455"
      ],
      "text/markdown": [
       "0.152968631595455"
      ],
      "text/plain": [
       "[1] 0.1529686"
      ]
     },
     "metadata": {},
     "output_type": "display_data"
    },
    {
     "data": {
      "text/html": [
       "0.146201304323725"
      ],
      "text/latex": [
       "0.146201304323725"
      ],
      "text/markdown": [
       "0.146201304323725"
      ],
      "text/plain": [
       "[1] 0.1462013"
      ]
     },
     "metadata": {},
     "output_type": "display_data"
    },
    {
     "data": {
      "text/html": [
       "0.117039295154216"
      ],
      "text/latex": [
       "0.117039295154216"
      ],
      "text/markdown": [
       "0.117039295154216"
      ],
      "text/plain": [
       "[1] 0.1170393"
      ]
     },
     "metadata": {},
     "output_type": "display_data"
    },
    {
     "data": {
      "text/html": [
       "0.127853480194407"
      ],
      "text/latex": [
       "0.127853480194407"
      ],
      "text/markdown": [
       "0.127853480194407"
      ],
      "text/plain": [
       "[1] 0.1278535"
      ]
     },
     "metadata": {},
     "output_type": "display_data"
    }
   ],
   "source": [
    "# load the retweets data. df named 'retweets'\n",
    "load('Barbera/retweets-data.rdata')\n",
    "\n",
    "# load the users data. df named 'users'\n",
    "load('Barbera/users-data-US.rdata')\n",
    "# subset user data to uid and theta columns\n",
    "users <- users[,c(9, 1, 8)]\n",
    "\n",
    "# create the initial graph\n",
    "g_retweet <- graph_from_edgelist(as.matrix(retweets[,c(2,3)]))\n",
    "\n",
    "# get a list of all vertex names in the original edge list\n",
    "edgeids <- V(g_retweet)$name\n",
    "# identify nodes in the retweet edge list that don't have a point estimate\n",
    "missing <- edgeids[-which(edgeids %in% users$uid)]\n",
    "# remove nodes with no point estimate\n",
    "g_retweet <- delete_vertices(g_retweet, missing)\n",
    "# create a new edge list\n",
    "retweets_clean <- igraph::as_data_frame(g_retweet, what = 'edges')\n",
    "\n",
    "# create a new graph object from clean edge list and node list\n",
    "g <- graph_from_data_frame(retweets_clean, directed = TRUE, vertices = users)\n",
    "\n",
    "# assign transitivity\n",
    "V(g)$trans <- transitivity(g, 'local')\n",
    "\n",
    "# transitivity of conservatives\n",
    "mean(V(g)[V(g)$type == 'Conservatives']$trans, na.rm = TRUE)\n",
    "\n",
    "mean(V(g)[V(g)$type == 'Liberals']$trans, na.rm = TRUE)\n",
    "\n",
    "mean(V(g)[V(g)$type == 'Moderates']$trans, na.rm = TRUE)\n",
    "\n",
    "mean(V(g)$trans, na.rm = TRUE)\n",
    "transitivity(g)"
   ]
  },
  {
   "cell_type": "code",
   "execution_count": 78,
   "metadata": {},
   "outputs": [
    {
     "data": {
      "text/html": [
       "0.121584559703926"
      ],
      "text/latex": [
       "0.121584559703926"
      ],
      "text/markdown": [
       "0.121584559703926"
      ],
      "text/plain": [
       "[1] 0.1215846"
      ]
     },
     "metadata": {},
     "output_type": "display_data"
    },
    {
     "data": {
      "text/html": [
       "0.107142857142857"
      ],
      "text/latex": [
       "0.107142857142857"
      ],
      "text/markdown": [
       "0.107142857142857"
      ],
      "text/plain": [
       "[1] 0.1071429"
      ]
     },
     "metadata": {},
     "output_type": "display_data"
    },
    {
     "data": {
      "text/html": [
       "0.0666666666666667"
      ],
      "text/latex": [
       "0.0666666666666667"
      ],
      "text/markdown": [
       "0.0666666666666667"
      ],
      "text/plain": [
       "[1] 0.06666667"
      ]
     },
     "metadata": {},
     "output_type": "display_data"
    }
   ],
   "source": [
    "# calculate the median transitivity\n",
    "median(V(g)[V(g)$type == 'Conservatives']$trans, na.rm = TRUE)\n",
    "\n",
    "median(V(g)[V(g)$type == 'Liberals']$trans, na.rm = TRUE)\n",
    "\n",
    "median(V(g)[V(g)$type == 'Moderates']$trans, na.rm = TRUE)"
   ]
  },
  {
   "cell_type": "markdown",
   "metadata": {},
   "source": [
    "# Centrality"
   ]
  },
  {
   "cell_type": "code",
   "execution_count": 89,
   "metadata": {},
   "outputs": [],
   "source": [
    "# calculate degree centrality with cutoff of 3. Takes a bit...\n",
    "cent <- estimate_betweenness(g, directed = TRUE, cutoff = 3)\n",
    "save(cent, file = 'centrality.rdata')\n",
    "# assign as attribute\n",
    "V(g)$cent <- cent"
   ]
  },
  {
   "cell_type": "code",
   "execution_count": 71,
   "metadata": {},
   "outputs": [],
   "source": [
    "# load if already calculated\n",
    "load('centrality.rdata')\n",
    "V(g)$cent <- cent\n",
    "\n",
    "# outliers dominate to the point that mean and median are useless\n",
    "# accordingly take the log and then the mean\n",
    "mean(log(V(g)[V(g)$type == 'Conservatives']$cent + 1))\n",
    "mean(log(V(g)[V(g)$type == 'Liberals']$cent + 1))\n",
    "mean(log(V(g)[V(g)$type == 'Moderates']$cent + 1))\n",
    "mean(log((V(g)$cent + 1)))"
   ]
  },
  {
   "cell_type": "markdown",
   "metadata": {},
   "source": [
    "# Recpiprocity"
   ]
  },
  {
   "cell_type": "code",
   "execution_count": 90,
   "metadata": {},
   "outputs": [],
   "source": [
    "# create a graph from the edge list\n",
    "g <- graph_from_edgelist(as.matrix(retweets[,c(2,3)]))\n",
    "# get a list of all vertex names in the original edge list\n",
    "edgeids <- V(g)$name\n",
    "\n",
    "# get a list of all vertex names in the elites and followers data\n",
    "# elites data\n",
    "elites <- results[,c(1,2)]\n",
    "colnames(elites) <- c('uid', 'ideal_point')\n",
    "# followers data\n",
    "followers <- users[,c('uid', 'theta')]\n",
    "colnames(followers) <- c('uid', 'ideal_point')\n",
    "# combine elites and followers data\n",
    "nodes <- rbind(followers, elites)\n",
    "\n",
    "# remove vertices with no point estimates from the data\n",
    "# identify nodes in the retweet edge list that don't have a point estimate\n",
    "missing <- edgeids[-which(edgeids %in% nodes$uid)]\n",
    "# remove nodes from the network with no point estimate\n",
    "g <- delete_vertices(g, missing)\n",
    "# create a new edge list after dropping vertices\n",
    "retweets_clean <- igraph::as_data_frame(g, what = 'edges')\n",
    "\n",
    "# add meta data to the node list\n",
    "# count number of times a node retweeted someone else\n",
    "retweet_count <- count(retweets_clean, from)\n",
    "colnames(retweet_count) <- c('uid', 'retweets')\n",
    "# count the number of times a node was retweeted\n",
    "retweeted_count <- count(retweets_clean, to)\n",
    "colnames(retweeted_count) <- c('uid', 'retweeted')\n",
    "# left join retweets with node list\n",
    "nodes <- left_join(nodes, retweet_count, by = 'uid')\n",
    "# left join retweeted with node list\n",
    "nodes <- left_join(nodes, retweeted_count, by = 'uid')\n",
    "# fill NA with zero \n",
    "nodes$retweets[is.na(nodes$retweets)] <- 0\n",
    "nodes$retweeted[is.na(nodes$retweeted)] <- 0\n",
    "\n",
    "# add reciprocity\n",
    "# create retweet adjacency matrix\n",
    "retweet_adj <- as_adj(g, edges=TRUE, sparse = TRUE)\n",
    "# convert from numeric to binary sparse matrix\n",
    "retweet_adj <- as(retweet_adj, \"ngCMatrix\")\n",
    "# multiply the matrix aby its inverse and sum the rows to get the number of reciprocated ties\n",
    "recip <- as.matrix(rowSums(retweet_adj*t(retweet_adj)))\n",
    "# convert to df for joining\n",
    "recip <- as.data.frame(recip)\n",
    "recip$uid <- rownames(recip)\n",
    "colnames(recip) <- c('reciprocity', 'uid')\n",
    "# join to node list\n",
    "nodes <- left_join(nodes, recip, by = 'uid')\n",
    "# replace NA with 0\n",
    "nodes$reciprocity[is.na(nodes$reciprocity)] <- 0\n",
    "\n",
    "# create a new graph object from clean edge list and node list\n",
    "g <- graph_from_data_frame(retweets_clean, directed = TRUE, vertices = nodes)"
   ]
  },
  {
   "cell_type": "code",
   "execution_count": 91,
   "metadata": {},
   "outputs": [],
   "source": [
    "# plot reciprocity and save\n",
    "recip_scatter <- ggplot(nodes, aes(x=ideal_point, y=reciprocity)) +\n",
    "    geom_point(shape=1) +\n",
    "    labs(x='Ideal Point', y='Reciprocity') +\n",
    "    theme(panel.border=element_rect(fill=NA), panel.background = element_blank())\n",
    "\n",
    "ggsave('plots/reciprocity.png', plot = recip_scatter, width = 5, height = 5)"
   ]
  },
  {
   "cell_type": "code",
   "execution_count": 198,
   "metadata": {},
   "outputs": [
    {
     "data": {
      "text/html": [
       "0.957661315354912"
      ],
      "text/latex": [
       "0.957661315354912"
      ],
      "text/markdown": [
       "0.957661315354912"
      ],
      "text/plain": [
       "[1] 0.9576613"
      ]
     },
     "metadata": {},
     "output_type": "display_data"
    },
    {
     "data": {
      "text/html": [
       "0.587625967248515"
      ],
      "text/latex": [
       "0.587625967248515"
      ],
      "text/markdown": [
       "0.587625967248515"
      ],
      "text/plain": [
       "[1] 0.587626"
      ]
     },
     "metadata": {},
     "output_type": "display_data"
    },
    {
     "data": {
      "text/html": [
       "0.169483844654915"
      ],
      "text/latex": [
       "0.169483844654915"
      ],
      "text/markdown": [
       "0.169483844654915"
      ],
      "text/plain": [
       "[1] 0.1694838"
      ]
     },
     "metadata": {},
     "output_type": "display_data"
    }
   ],
   "source": [
    "# avg number of mutual ties for conservatives\n",
    "mean(nodes[nodes$ideal_point >= 0.5, 'reciprocity'])\n",
    "\n",
    "# avg number of mutual ties for Liberals\n",
    "mean(nodes[nodes$ideal_point <= -0.5, 'reciprocity'])\n",
    "\n",
    "# average number for moderates\n",
    "mean(nodes[nodes$ideal_point >= -0.5 & nodes$ideal_point <= 0.5, 'reciprocity'])"
   ]
  },
  {
   "cell_type": "markdown",
   "metadata": {},
   "source": [
    "# Retweet network plot"
   ]
  },
  {
   "cell_type": "code",
   "execution_count": 96,
   "metadata": {},
   "outputs": [],
   "source": [
    "load('Barbera/users-data-US.rdata')\n",
    "load('Barbera/retweets-data.rdata')\n",
    "\n",
    "\n",
    "users <- users[,c(9, 1)]\n",
    "rtdf <- retweets[retweets$retweeter_uid %in% users$uid, ]\n",
    "rtdf <- rtdf[(rtdf$retweeted_uid %in% users$uid), ]\n",
    "\n",
    "grt <- graph_from_data_frame(rtdf[,c(2,3)], vertices = users, directed = FALSE)\n",
    "\n",
    "grt <- simplify(grt)\n",
    "\n",
    "V(grt)$color <- ifelse(V(grt)$theta <=0, 'dark blue', 'dark red')"
   ]
  },
  {
   "cell_type": "code",
   "execution_count": null,
   "metadata": {},
   "outputs": [],
   "source": [
    "# calcualte the layout. Takes roughly a day\n",
    "retweetfr <- layout_with_fr(grt, grid = 'nogrid')\n",
    "save(retweetfr, file = \"retweet_fr_layout2.RData\")"
   ]
  },
  {
   "cell_type": "code",
   "execution_count": 109,
   "metadata": {},
   "outputs": [
    {
     "data": {
      "text/html": [
       "<strong>png:</strong> 2"
      ],
      "text/latex": [
       "\\textbf{png:} 2"
      ],
      "text/markdown": [
       "**png:** 2"
      ],
      "text/plain": [
       "png \n",
       "  2 "
      ]
     },
     "metadata": {},
     "output_type": "display_data"
    }
   ],
   "source": [
    "load('retweet_fr_layout.RData')\n",
    "\n",
    "png(\"plots/retweet network.png\", 600, 600)\n",
    "\n",
    "plot.igraph(grt, \n",
    "     layout = retweetfr,\n",
    "     vertex.label = NA,\n",
    "     vertex.size = 1.5,\n",
    "     vertex.frame.color = NA,\n",
    "     edge.color ='gray',\n",
    "     edge.width = .25,\n",
    "     color = V(grt)$color\n",
    "    )\n",
    "\n",
    "dev.off()"
   ]
  },
  {
   "cell_type": "markdown",
   "metadata": {},
   "source": [
    "## Degree"
   ]
  },
  {
   "cell_type": "code",
   "execution_count": 61,
   "metadata": {},
   "outputs": [],
   "source": [
    "# load data\n",
    "load('Barbera/users-data-US.rdata')\n",
    "\n",
    "# visualize\n",
    "rtvis <- ggplot(users, aes(x=theta, y=alpha) ) +\n",
    "  geom_bin2d(bins = 300) +\n",
    "  ylab(expression('Popularity'[i])) + # puts a line through the graph when I label this alpha for some reason...\n",
    "  xlab(expression(theta[i])) +\n",
    "  scale_fill_continuous(type = \"viridis\", name = 'Count') +\n",
    "  theme(panel.border=element_rect(fill=NA), panel.background = element_blank())\n",
    "\n",
    "# save\n",
    "ggsave(filename=\"plots/retweet_net.png\", plot=rtvis, \n",
    "        height=5, width=5)"
   ]
  },
  {
   "cell_type": "code",
   "execution_count": 60,
   "metadata": {},
   "outputs": [
    {
     "data": {
      "text/html": [
       "0.0171640009567489"
      ],
      "text/latex": [
       "0.0171640009567489"
      ],
      "text/markdown": [
       "0.0171640009567489"
      ],
      "text/plain": [
       "[1] 0.017164"
      ]
     },
     "metadata": {},
     "output_type": "display_data"
    },
    {
     "data": {
      "text/html": [
       "0.0203728165397765"
      ],
      "text/latex": [
       "0.0203728165397765"
      ],
      "text/markdown": [
       "0.0203728165397765"
      ],
      "text/plain": [
       "[1] 0.02037282"
      ]
     },
     "metadata": {},
     "output_type": "display_data"
    },
    {
     "data": {
      "text/html": [
       "0.000713353335644133"
      ],
      "text/latex": [
       "0.000713353335644133"
      ],
      "text/markdown": [
       "0.000713353335644133"
      ],
      "text/plain": [
       "[1] 0.0007133533"
      ]
     },
     "metadata": {},
     "output_type": "display_data"
    }
   ],
   "source": [
    "# correlation between degree and theta\n",
    "V(g)$degree <- degree(g)\n",
    "users <- igraph::as_data_frame(g, what = 'vertices')\n",
    "cor(abs(users[users$theta >= 0.5, 'theta']), users[users$theta >= 0.5, 'degree'])\n",
    "cor(abs(users[users$theta <= -0.5, 'theta']), users[users$theta <= -0.5, 'degree'])\n",
    "cor(abs(users[users$theta >= -0.5 & users$theta <= 0.5, 'theta']), users[users$theta >= -0.5 & users$theta <= 0.5, 'degree'])"
   ]
  },
  {
   "cell_type": "code",
   "execution_count": 62,
   "metadata": {},
   "outputs": [
    {
     "data": {
      "text/html": [
       "0.107493664276832"
      ],
      "text/latex": [
       "0.107493664276832"
      ],
      "text/markdown": [
       "0.107493664276832"
      ],
      "text/plain": [
       "[1] 0.1074937"
      ]
     },
     "metadata": {},
     "output_type": "display_data"
    },
    {
     "data": {
      "text/html": [
       "0.212182418768434"
      ],
      "text/latex": [
       "0.212182418768434"
      ],
      "text/markdown": [
       "0.212182418768434"
      ],
      "text/plain": [
       "[1] 0.2121824"
      ]
     },
     "metadata": {},
     "output_type": "display_data"
    },
    {
     "data": {
      "text/html": [
       "-0.0857546753515043"
      ],
      "text/latex": [
       "-0.0857546753515043"
      ],
      "text/markdown": [
       "-0.0857546753515043"
      ],
      "text/plain": [
       "[1] -0.08575468"
      ]
     },
     "metadata": {},
     "output_type": "display_data"
    }
   ],
   "source": [
    "# Correlation between alpha and theta\n",
    "load('Barbera/users-data-US.rdata')\n",
    "cor(abs(users[users$theta >= 0.5, 'theta']), users[users$theta >= 0.5, 'alpha'])\n",
    "cor(abs(users[users$theta <= -0.5, 'theta']), users[users$theta <= -0.5, 'alpha'])\n",
    "cor(abs(users[users$theta >= -0.5 & users$theta <= 0.5, 'theta']), users[users$theta >= -0.5 & users$theta <= 0.5, 'alpha'])\n",
    "\n",
    "cor(abs(users$theta), users$alpha)"
   ]
  }
 ],
 "metadata": {
  "kernelspec": {
   "display_name": "R",
   "language": "R",
   "name": "ir"
  },
  "language_info": {
   "codemirror_mode": "r",
   "file_extension": ".r",
   "mimetype": "text/x-r-source",
   "name": "R",
   "pygments_lexer": "r",
   "version": "3.6.3"
  }
 },
 "nbformat": 4,
 "nbformat_minor": 4
}
